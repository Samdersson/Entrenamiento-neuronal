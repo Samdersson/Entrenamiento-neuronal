{
  "nbformat": 4,
  "nbformat_minor": 0,
  "metadata": {
    "colab": {
      "provenance": [],
      "authorship_tag": "ABX9TyN2UWfdQlDUlzvmfbgLk+Z8",
      "include_colab_link": true
    },
    "kernelspec": {
      "name": "python3",
      "display_name": "Python 3"
    },
    "language_info": {
      "name": "python"
    }
  },
  "cells": [
    {
      "cell_type": "markdown",
      "metadata": {
        "id": "view-in-github",
        "colab_type": "text"
      },
      "source": [
        "<a href=\"https://colab.research.google.com/github/Samdersson/Entrenamiento-neuronal/blob/main/Momentum_en_pyTorch.ipynb\" target=\"_parent\"><img src=\"https://colab.research.google.com/assets/colab-badge.svg\" alt=\"Open In Colab\"/></a>"
      ]
    },
    {
      "cell_type": "code",
      "execution_count": 3,
      "metadata": {
        "id": "s3VCMu8RoHEY"
      },
      "outputs": [],
      "source": [
        "import torch\n",
        "import torch.nn as nn\n",
        "import torch.optim as optim\n",
        "#Definir el modelo\n",
        "class SimpleNN(nn.Module):\n",
        "    def __init__(self):\n",
        "        super(SimpleNN, self).__init__()\n",
        "        self.fc = nn.Linear(784, 10)\n",
        "\n",
        "    def forward(self, x):\n",
        "        return torch.softmax(self.fc(x), dim=1)"
      ]
    },
    {
      "cell_type": "code",
      "source": [
        "#inicializar el modelo criterio y optimizador\n",
        "\n",
        "model = SimpleNN()\n",
        "criterion = nn.CrossEntropyLoss()\n",
        "optimizer = optim.SGD(model.parameters(), lr=0.01, momentum=0.9)"
      ],
      "metadata": {
        "id": "biyRh8jgqFvo"
      },
      "execution_count": 4,
      "outputs": []
    },
    {
      "cell_type": "code",
      "source": [
        "#crear datos de entretenimiento aleatorios\n",
        "X_train = torch.randn(1000, 784)\n",
        "y_train = torch.randint(0, 10, (1000,))\n",
        "\n",
        "#Entrenamiento del modelo\n",
        "\n",
        "for epoch in range(10):\n",
        "    optimizer.zero_grad()\n",
        "    outputs = model(X_train)\n",
        "    loss = criterion(outputs, y_train)\n",
        "    loss.backward()\n",
        "    optimizer.step()\n",
        "\n",
        "    print(f'Epoch [{epoch+1}/10], Loss: {loss.item():.4f}')"
      ],
      "metadata": {
        "colab": {
          "base_uri": "https://localhost:8080/"
        },
        "id": "CPSDptCArrOn",
        "outputId": "14a848ac-6d99-42e6-f44c-21a5336bac69"
      },
      "execution_count": 6,
      "outputs": [
        {
          "output_type": "stream",
          "name": "stdout",
          "text": [
            "Epoch [1/10], Loss: 2.3019\n",
            "Epoch [2/10], Loss: 2.3018\n",
            "Epoch [3/10], Loss: 2.3017\n",
            "Epoch [4/10], Loss: 2.3014\n",
            "Epoch [5/10], Loss: 2.3011\n",
            "Epoch [6/10], Loss: 2.3008\n",
            "Epoch [7/10], Loss: 2.3004\n",
            "Epoch [8/10], Loss: 2.2999\n",
            "Epoch [9/10], Loss: 2.2994\n",
            "Epoch [10/10], Loss: 2.2989\n"
          ]
        }
      ]
    }
  ]
}